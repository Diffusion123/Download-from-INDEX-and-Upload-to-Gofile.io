
  "nbformat": 4,
  "nbformat_minor": 0,
  "metadata": {
    "colab": {
      "name": "Download-from-INDEX-and-Upload-to-Gofile.io",
      "provenance": [],
      "collapsed_sections": [
        "4E-uzYrv5o0B",
        "8uUbyNZHi8a5",
        "6I2huqscJEPn"
      ]
    },
    "kernelspec": {
      "name": "python3",
      "display_name": "Python 3"
    },
    "accelerator": "GPU"
  },
  "cells": [
    {
      "cell_type": "markdown",
      "metadata": {
        "id": "view-in-github",
        "colab_type": "text"
      },
      "source": [
        "<a href=\"https://colab.research.google.com/github/Diffusion123/Download-from-INDEX-and-Upload-to-Gofile.io/blob/master/Gofile.ipynb\" target=\"_parent\"><img src=\"https://colab.research.google.com/assets/colab-badge.svg\" alt=\"Open In Colab\"/></a>"
      ]
    },
    {
      "cell_type": "markdown",
      "metadata": {
        "id": "HGctdySsIGFS",
        "colab_type": "text"
      },
      "source": [
        "# **<font color='blue'> Any File to Google Drive - Shared by [Cheems](https://github.com/cheems) </font>**\n"
      ]
    },
    {
      "cell_type": "markdown",
      "metadata": {
        "id": "4E-uzYrv5o0B",
        "colab_type": "text"
      },
      "source": [
        "---\n",
        "#Mount Google Drive with Rclone"
      ]
    },
    {
      "cell_type": "code",
      "metadata": {
        "id": "iroeLPFdXbif",
        "colab_type": "code",
        "cellView": "form",
        "colab": {}
      },
