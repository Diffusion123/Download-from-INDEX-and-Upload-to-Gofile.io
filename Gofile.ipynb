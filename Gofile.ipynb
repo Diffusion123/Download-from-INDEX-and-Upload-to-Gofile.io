{
  "cells": [
    {
      "cell_type": "markdown",
      "metadata": {
        "id": "view-in-github",
        "colab_type": "text"
      },
      "source": [
        "<a href=\"https://colab.research.google.com/github/Diffusion123/Download-from-INDEX-and-Upload-to-Gofile.io/blob/main/Gofile.ipynb\" target=\"_parent\"><img src=\"https://colab.research.google.com/assets/colab-badge.svg\" alt=\"Open In Colab\"/></a>"
      ]
    },
    {
      "cell_type": "markdown",
      "source": [
        "🔽 Download File From Direct Link To Google Colab Storage"
      ],
      "metadata": {
        "id": "SZgVNjJZqQxI"
      }
    },
    {
      "cell_type": "code",
      "execution_count": null,
      "metadata": {
        "id": "PtkK2qfY68CJ",
        "cellView": "form"
      },
      "outputs": [],
      "source": [
        "Path = \"/content/\" #@param {type:\"string\"}\n",
        "FileName = \"\" #@param {type:\"string\"}\n",
        "Download_Link = \"\" #@param {type:\"string\"}\n",
        "Source = Download_Link\n",
        "!wget -O \"{Path+FileName}\" \"{Source}\""
      ]
    },
    {
      "cell_type": "markdown",
      "source": [
        "___Upload To Gofile.io___\n",
        "\n",
        "---\n",
        "# <img src='https://gofile.io/dist/img/logo-big.png' height=\"45\" alt=\"JDownloader\"/>"
      ],
      "metadata": {
        "id": "Eqy_gUN4qZJU"
      }
    },
    {
      "cell_type": "code",
      "execution_count": null,
      "metadata": {
        "id": "rIc6wsaDfsWq",
        "cellView": "form"
      },
      "outputs": [],
      "source": [
        "import os\n",
        "import requests\n",
        "import json\n",
        "\n",
        "# File to upload\n",
        "file_path = \"\" #@param {type:\"string\"}\n",
        "\n",
        "# Find the best server to upload\n",
        "server_response = requests.get('https://apiv2.gofile.io/getServer')\n",
        "server_data = json.loads(server_response.text)\n",
        "server = server_data['data']['server']\n",
        "\n",
        "# Upload the file\n",
        "with open(file_path, 'rb') as file:\n",
        "    upload_response = requests.post(\n",
        "        f\"https://{server}.gofile.io/uploadFile\",\n",
        "        files={'file': file}\n",
        "    )\n",
        "upload_data = json.loads(upload_response.text)\n",
        "link = upload_data['data']['downloadPage']\n",
        "\n",
        "# Print the link\n",
        "print(link)"
      ]
    }
  ],
  "metadata": {
    "colab": {
      "provenance": [],
      "mount_file_id": "1_U0MrylostTtxaSEvCv3519OR6-2njET",
      "authorship_tag": "ABX9TyOHUtYWA+RG4i26hyf12pho",
      "include_colab_link": true
    },
    "kernelspec": {
      "display_name": "Python 3",
      "name": "python3"
    },
    "language_info": {
      "name": "python"
    }
  },
  "nbformat": 4,
  "nbformat_minor": 0
}